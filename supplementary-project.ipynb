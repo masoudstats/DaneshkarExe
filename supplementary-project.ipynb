{
 "cells": [
  {
   "cell_type": "markdown",
   "metadata": {},
   "source": [
    "# Project Overview\n",
    "\n",
    "## Part 1\n",
    "\n",
    "Imagine you are part of a team developing a new scientific computing library. Before integrating Numpy, your team wants to ensure that you understand how fundamental operations can be performed manually. This understanding will help in optimizing and troubleshooting when integrating more complex operations in the future. You will implement 20 essential Numpy functions from scratch and then compare their outputs with the results obtained from Numpy's built-in functions.\n",
    "\n",
    "\n",
    "### Instructions\n",
    "For each Numpy function, you will:\n",
    "\n",
    "- Implement the function using basic Python constructs.\n",
    "- Implement the function using Numpy.\n",
    "- Compare the outputs of both implementations to ensure they match.\n",
    "\n",
    "\n",
    "List of Numpy Functions\n",
    "- np.add\n",
    "- np.subtract\n",
    "- np.multiply\n",
    "- np.divide\n",
    "- np.power\n",
    "- np.mod\n",
    "- np.sqrt\n",
    "- np.sum\n",
    "- np.mean\n",
    "- np.median\n",
    "- np.std\n",
    "- np.var\n",
    "- np.min\n",
    "- np.max\n",
    "- np.argmin\n",
    "- np.argmax\n",
    "- np.dot\n",
    "- np.cross\n",
    "- np.sort\n",
    "- np.concatenate"
   ]
  },
  {
   "cell_type": "code",
   "execution_count": 1,
   "metadata": {},
   "outputs": [],
   "source": [
    "import numpy as np\n",
    "from math import sqrt"
   ]
  },
  {
   "cell_type": "code",
   "execution_count": 2,
   "metadata": {},
   "outputs": [
    {
     "name": "stdout",
     "output_type": "stream",
     "text": [
      "Manual Addition Result: [5, 7, 9]\n",
      "Numpy Addition Result: [5 7 9]\n"
     ]
    }
   ],
   "source": [
    "def manual_addition(list1, list2):\n",
    "    result = []\n",
    "    for val1, val2 in zip(list1, list2):\n",
    "        result.append(val1 + val2) \n",
    "    return result\n",
    "\n",
    "def numpy_addition(array1, array2):\n",
    "    return np.add(array1, array2)\n",
    "\n",
    "list1 = [1, 2, 3]\n",
    "list2 = [4, 5, 6]\n",
    "array1 = np.array(list1)\n",
    "array2 = np.array(list2)\n",
    "\n",
    "manual_result = manual_addition(list1, list2)\n",
    "numpy_result = numpy_addition(array1, array2)\n",
    "\n",
    "print(f\"Manual Addition Result: {manual_result}\")\n",
    "print(f\"Numpy Addition Result: {numpy_result}\")"
   ]
  },
  {
   "cell_type": "code",
   "execution_count": 3,
   "metadata": {},
   "outputs": [
    {
     "name": "stdout",
     "output_type": "stream",
     "text": [
      "Manual Subtraction Result: [-3, -3, -3]\n",
      "Numpy Subtraction Result: [-3 -3 -3]\n"
     ]
    }
   ],
   "source": [
    "def manual_subtraction(list1, list2):\n",
    "    result = []\n",
    "    for val1, val2 in zip(list1, list2):\n",
    "        result.append(val1 - val2)\n",
    "    return result\n",
    "\n",
    "def numpy_subtraction(array1, array2):\n",
    "    return np.subtract(array1, array2)\n",
    "\n",
    "manual_result = manual_subtraction(list1, list2)\n",
    "numpy_result = numpy_subtraction(array1, array2)\n",
    "\n",
    "print(f\"Manual Subtraction Result: {manual_result}\")\n",
    "print(f\"Numpy Subtraction Result: {numpy_result}\")"
   ]
  },
  {
   "cell_type": "code",
   "execution_count": 4,
   "metadata": {},
   "outputs": [
    {
     "name": "stdout",
     "output_type": "stream",
     "text": [
      "Manual Multiplication Result: [4, 10, 18]\n",
      "Numpy Multiplication Result: [ 4 10 18]\n"
     ]
    }
   ],
   "source": [
    "def manual_multiplication(list1, list2):\n",
    "    result = []\n",
    "    for val1, val2 in zip(list1, list2):\n",
    "        result.append(val1 * val2)\n",
    "    return result\n",
    "\n",
    "def numpy_multiplication(array1, array2):\n",
    "    return np.multiply(array1, array2)\n",
    "\n",
    "manual_result = manual_multiplication(list1, list2)\n",
    "numpy_result = numpy_multiplication(array1, array2)\n",
    "\n",
    "print(f\"Manual Multiplication Result: {manual_result}\")\n",
    "print(f\"Numpy Multiplication Result: {numpy_result}\")"
   ]
  },
  {
   "cell_type": "code",
   "execution_count": 5,
   "metadata": {},
   "outputs": [
    {
     "name": "stdout",
     "output_type": "stream",
     "text": [
      "Manual Division Result: [0.25, 0.4, 0.5]\n",
      "Numpy Division Result: [0.25 0.4  0.5 ]\n"
     ]
    }
   ],
   "source": [
    "def manual_division(list1, list2):\n",
    "    result = []\n",
    "    for val1, val2 in zip(list1, list2):\n",
    "        try:\n",
    "            result.append(val1 / val2)\n",
    "        except ZeroDivisionError:\n",
    "            print(\"Please remove 0 from list2\")\n",
    "    return result\n",
    "\n",
    "def numpy_division(array1, array2):\n",
    "    return np.divide(array1, array2)\n",
    "\n",
    "manual_result = manual_division(list1, list2)\n",
    "numpy_result = numpy_division(array1, array2)\n",
    "\n",
    "print(f\"Manual Division Result: {manual_result}\")\n",
    "print(f\"Numpy Division Result: {numpy_result}\")"
   ]
  },
  {
   "cell_type": "code",
   "execution_count": 6,
   "metadata": {},
   "outputs": [
    {
     "name": "stdout",
     "output_type": "stream",
     "text": [
      "Manual Power Result: [1, 32, 729]\n",
      "Numpy Power Result: [  1  32 729]\n"
     ]
    }
   ],
   "source": [
    "def manual_power(list1, list2):\n",
    "    result = []\n",
    "    for val1, val2 in zip(list1, list2):\n",
    "        result.append(pow(val1, val2))\n",
    "    return result\n",
    "\n",
    "def numpy_power(array1, array2):\n",
    "    return np.pow(array1, array2)\n",
    "\n",
    "manual_result = manual_power(list1, list2)\n",
    "numpy_result = numpy_power(array1, array2)\n",
    "\n",
    "print(f\"Manual Power Result: {manual_result}\")\n",
    "print(f\"Numpy Power Result: {numpy_result}\")"
   ]
  },
  {
   "cell_type": "code",
   "execution_count": 7,
   "metadata": {},
   "outputs": [
    {
     "name": "stdout",
     "output_type": "stream",
     "text": [
      "Manual Modulo Result: [1, 2, 3]\n",
      "Numpy Modulo Result: [1 2 3]\n"
     ]
    }
   ],
   "source": [
    "def manual_modulo(list1, list2):\n",
    "    result = []\n",
    "    for val1, val2 in zip(list1, list2):\n",
    "        result.append(val1 % val2)\n",
    "    return result\n",
    "\n",
    "def numpy_modulo(array1, array2):\n",
    "    return np.mod(array1, array2)\n",
    "\n",
    "manual_result = manual_modulo(list1, list2)\n",
    "numpy_result = numpy_modulo(array1, array2)\n",
    "\n",
    "print(f\"Manual Modulo Result: {manual_result}\")\n",
    "print(f\"Numpy Modulo Result: {numpy_result}\")"
   ]
  },
  {
   "cell_type": "code",
   "execution_count": 8,
   "metadata": {},
   "outputs": [
    {
     "name": "stdout",
     "output_type": "stream",
     "text": [
      "Manual Square Root Result: [1.0, 1.4142135623730951, 1.7320508075688772]\n",
      "Numpy Square Root Result: [1.         1.41421356 1.73205081]\n"
     ]
    }
   ],
   "source": [
    "def manual_sqrt(list1):\n",
    "    result = []\n",
    "    for val1 in list1:\n",
    "        result.append(sqrt(val1))\n",
    "    return result\n",
    "\n",
    "def numpy_sqrt(array1):\n",
    "    return np.sqrt(array1)\n",
    "\n",
    "manual_result = manual_sqrt(list1)\n",
    "numpy_result = numpy_sqrt(array1)\n",
    "\n",
    "print(f\"Manual Square Root Result: {manual_result}\")\n",
    "print(f\"Numpy Square Root Result: {numpy_result}\")"
   ]
  },
  {
   "cell_type": "code",
   "execution_count": 9,
   "metadata": {},
   "outputs": [
    {
     "name": "stdout",
     "output_type": "stream",
     "text": [
      "Manual Sum Result: 6\n",
      "Numpy Sum Result: 6\n"
     ]
    }
   ],
   "source": [
    "def manual_sum(list1):\n",
    "    total = 0\n",
    "    for val1 in list1:\n",
    "        total += val1\n",
    "    return total\n",
    "\n",
    "def numpy_sum(array1):\n",
    "    return np.sum(array1)\n",
    "\n",
    "manual_result = manual_sum(list1)\n",
    "numpy_result = numpy_sum(array1)\n",
    "\n",
    "print(f\"Manual Sum Result: {manual_result}\")\n",
    "print(f\"Numpy Sum Result: {numpy_result}\")"
   ]
  },
  {
   "cell_type": "code",
   "execution_count": 10,
   "metadata": {},
   "outputs": [
    {
     "name": "stdout",
     "output_type": "stream",
     "text": [
      "Manual Mean Result: 2.0\n",
      "Numpy Mean Result: 2.0\n"
     ]
    }
   ],
   "source": [
    "def manual_mean(list1):\n",
    "    total = 0\n",
    "    for val1 in list1:\n",
    "        total += val1\n",
    "    return total / len(list1)\n",
    "\n",
    "def numpy_mean(array1):\n",
    "    return np.mean(array1)\n",
    "\n",
    "manual_result = manual_mean(list1)\n",
    "numpy_result = numpy_mean(array1)\n",
    "\n",
    "print(f\"Manual Mean Result: {manual_result}\")\n",
    "print(f\"Numpy Mean Result: {numpy_result}\")"
   ]
  },
  {
   "cell_type": "code",
   "execution_count": 11,
   "metadata": {},
   "outputs": [
    {
     "name": "stdout",
     "output_type": "stream",
     "text": [
      "Manual Median Result: 2\n",
      "Numpy Median Result: 2.0\n"
     ]
    }
   ],
   "source": [
    "def manual_median(list1):\n",
    "    median_num = 0\n",
    "    sorted_list = sorted(list1)\n",
    "    index_last_num = sorted_list.index(sorted_list[-1])\n",
    "    if len(sorted_list) % 2 != 0:\n",
    "        median_index = int(index_last_num / 2)\n",
    "        median_num = sorted_list[median_index]\n",
    "    else:\n",
    "        previous_num = sorted_list[int((index_last_num - 1) / 2 )]\n",
    "        forward_num = sorted_list[int((index_last_num + 1) / 2 )]\n",
    "        median_num = (previous_num + forward_num) / 2\n",
    "\n",
    "    return median_num\n",
    "\n",
    "def numpy_median(array1):\n",
    "    return np.median(array1)\n",
    "\n",
    "manual_result = manual_median(list1)\n",
    "numpy_result = numpy_median(list1)\n",
    "print(f\"Manual Median Result: {manual_result}\")\n",
    "print(f\"Numpy Median Result: {numpy_result}\")"
   ]
  },
  {
   "cell_type": "code",
   "execution_count": 12,
   "metadata": {},
   "outputs": [
    {
     "name": "stdout",
     "output_type": "stream",
     "text": [
      "Manual Standard Deviation Result: 0.816496580927726\n",
      "Numpy Standard Deviation Result: 0.816496580927726\n"
     ]
    }
   ],
   "source": [
    "def manual_std(list1):\n",
    "    mean = manual_mean(list1)\n",
    "    std = sqrt(sum([pow(val1 - mean, 2) for val1 in list1]) / len(list1))\n",
    "    return std\n",
    "\n",
    "def numpy_std(array1):\n",
    "    return np.std(array1)\n",
    "\n",
    "manual_result = manual_std(list1)\n",
    "numpy_result = numpy_std(array1)\n",
    "\n",
    "print(f\"Manual Standard Deviation Result: {manual_result}\")\n",
    "print(f\"Numpy Standard Deviation Result: {numpy_result}\")"
   ]
  },
  {
   "cell_type": "code",
   "execution_count": 13,
   "metadata": {},
   "outputs": [
    {
     "name": "stdout",
     "output_type": "stream",
     "text": [
      "Manual Variance Result: 0.6666666666666666\n",
      "Numpy Variance Result: 0.6666666666666666\n"
     ]
    }
   ],
   "source": [
    "def manual_variance(list1):\n",
    "    var = pow(manual_std(list1), 2)\n",
    "    return var\n",
    "\n",
    "def numpy_variance(array1):\n",
    "    return np.var(array1)\n",
    "\n",
    "manual_result = manual_variance(list1)\n",
    "numpy_result = numpy_variance(array1)\n",
    "\n",
    "print(f\"Manual Variance Result: {manual_result}\")\n",
    "print(f\"Numpy Variance Result: {numpy_result}\")"
   ]
  },
  {
   "cell_type": "code",
   "execution_count": 14,
   "metadata": {},
   "outputs": [
    {
     "name": "stdout",
     "output_type": "stream",
     "text": [
      "Manual Minimum Result: 1\n",
      "Numpy Minimum Result: 1\n"
     ]
    }
   ],
   "source": [
    "def manual_min(list1):\n",
    "    temp_num = list1[0]\n",
    "    for val1 in list1:\n",
    "        if val1 < temp_num:\n",
    "            temp_num = val1\n",
    "    min_value = temp_num\n",
    "    return min_value\n",
    "\n",
    "def numpy_min(array1):\n",
    "    return np.min(array1)\n",
    "\n",
    "manual_result = manual_min(list1)\n",
    "numpy_result = numpy_min(array1)\n",
    "\n",
    "print(f\"Manual Minimum Result: {manual_result}\")\n",
    "print(f\"Numpy Minimum Result: {numpy_result}\")"
   ]
  },
  {
   "cell_type": "code",
   "execution_count": 15,
   "metadata": {},
   "outputs": [
    {
     "name": "stdout",
     "output_type": "stream",
     "text": [
      "Manual Maximum Result: 3\n",
      "Numpy Maximum Result: 3\n"
     ]
    }
   ],
   "source": [
    "def manual_max(list1):\n",
    "    temp_num = list1[0]\n",
    "    for val1 in list1:\n",
    "        if val1 > temp_num:\n",
    "            temp_num = val1\n",
    "    max_value = temp_num\n",
    "    return max_value\n",
    "\n",
    "def numpy_max(array1):\n",
    "    return np.max(array1)\n",
    "\n",
    "manual_result = manual_max(list1)\n",
    "numpy_result = numpy_max(array1)\n",
    "\n",
    "print(f\"Manual Maximum Result: {manual_result}\")\n",
    "print(f\"Numpy Maximum Result: {numpy_result}\")"
   ]
  },
  {
   "cell_type": "code",
   "execution_count": 16,
   "metadata": {},
   "outputs": [
    {
     "name": "stdout",
     "output_type": "stream",
     "text": [
      "Manual Argmin Result: 0\n",
      "Numpy Argmin Result: 0\n"
     ]
    }
   ],
   "source": [
    "def manual_argmin(list1):\n",
    "    temp_num = list1[0]\n",
    "    temp_idx = 0\n",
    "    for idx, val1 in enumerate(list1):\n",
    "        if val1 < temp_num:\n",
    "            temp_num = val1\n",
    "            temp_idx = idx\n",
    "    min_index = temp_idx\n",
    "    return min_index\n",
    "\n",
    "def numpy_argmin(array1):\n",
    "    return np.argmin(array1)\n",
    "\n",
    "manual_result = manual_argmin(list1)\n",
    "numpy_result = numpy_argmin(array1)\n",
    "\n",
    "print(f\"Manual Argmin Result: {manual_result}\")\n",
    "print(f\"Numpy Argmin Result: {numpy_result}\")"
   ]
  },
  {
   "cell_type": "code",
   "execution_count": 17,
   "metadata": {},
   "outputs": [
    {
     "name": "stdout",
     "output_type": "stream",
     "text": [
      "Manual Argmax Result: 2\n",
      "Numpy Argmax Result: 2\n"
     ]
    }
   ],
   "source": [
    "def manual_argmax(list1):\n",
    "    temp_num = list1[0]\n",
    "    temp_idx = 0\n",
    "    for idx, val1 in enumerate(list1):\n",
    "        if val1 > temp_num:\n",
    "            temp_num = val1\n",
    "            temp_idx = idx\n",
    "    max_index = temp_idx\n",
    "    return max_index\n",
    "\n",
    "def numpy_argmax(array1):\n",
    "    return np.argmax(array1)\n",
    "\n",
    "manual_result = manual_argmax(list1)\n",
    "numpy_result = numpy_argmax(array1)\n",
    "\n",
    "print(f\"Manual Argmax Result: {manual_result}\")\n",
    "print(f\"Numpy Argmax Result: {numpy_result}\")"
   ]
  },
  {
   "cell_type": "code",
   "execution_count": 18,
   "metadata": {},
   "outputs": [
    {
     "name": "stdout",
     "output_type": "stream",
     "text": [
      "Manual Dot Product Result: 32\n",
      "Numpy Dot Product Result: 32\n"
     ]
    }
   ],
   "source": [
    "def manual_dot(list1, list2):\n",
    "    result = 0\n",
    "    for val1, val2 in zip(list1, list2):\n",
    "        result += (val1 * val2)\n",
    "    return result\n",
    "\n",
    "def numpy_dot(array1, array2):\n",
    "    return np.dot(array1, array2)\n",
    "\n",
    "manual_result = manual_dot(list1, list2)\n",
    "numpy_result = numpy_dot(array1, array2)\n",
    "\n",
    "print(f\"Manual Dot Product Result: {manual_result}\")\n",
    "print(f\"Numpy Dot Product Result: {numpy_result}\")"
   ]
  },
  {
   "cell_type": "code",
   "execution_count": 19,
   "metadata": {},
   "outputs": [
    {
     "name": "stdout",
     "output_type": "stream",
     "text": [
      "Manual Cross Product Result: [-3, 6, -3]\n",
      "Numpy Cross Product Result: [-3  6 -3]\n"
     ]
    }
   ],
   "source": [
    "def manual_cross(list1, list2):\n",
    "    sum1 = (list1[1] * list2[2]) - (list1[2] * list2[1])\n",
    "    sum2 = (list1[2] * list2[0]) - (list1[0] * list2[2])\n",
    "    sum3 = (list1[0] * list2[1]) - (list1[1] * list2[0])\n",
    "    return [sum1, sum2, sum3]\n",
    "\n",
    "def numpy_cross(array1, array2):\n",
    "    return np.cross(array1, array2)\n",
    "\n",
    "list1 = [1, 2, 3]\n",
    "list2 = [4, 5, 6]\n",
    "array1 = np.array(list1)\n",
    "array2 = np.array(list2)\n",
    "\n",
    "manual_result = manual_cross(list1, list2)\n",
    "numpy_result = numpy_cross(array1, array2)\n",
    "\n",
    "print(f\"Manual Cross Product Result: {manual_result}\")\n",
    "print(f\"Numpy Cross Product Result: {numpy_result}\")"
   ]
  },
  {
   "cell_type": "code",
   "execution_count": 40,
   "metadata": {},
   "outputs": [
    {
     "name": "stdout",
     "output_type": "stream",
     "text": [
      "Manual Sort Result: [1, 1, 3, 4, 5, 9]\n",
      "Numpy Sort Result: [1 1 3 4 5 9]\n"
     ]
    }
   ],
   "source": [
    "def manual_sort(list1):\n",
    "    sorted_list = list1\n",
    "    for i in range(len(list1)): \n",
    "        for j in range(len(list1)-i-1):\n",
    "            if list1[j] > list1[j+1]:\n",
    "                sorted_list[j], sorted_list[j+1] = sorted_list[j+1], sorted_list[j]\n",
    "\n",
    "    return sorted_list\n",
    "\n",
    "def numpy_sort(array1):\n",
    "    return np.sort(array1)\n",
    "\n",
    "list1 = [3, 1, 4, 1, 5, 9]\n",
    "array1 = np.array(list1)\n",
    "\n",
    "manual_result = manual_sort(list1)\n",
    "numpy_result = numpy_sort(array1)\n",
    "\n",
    "print(f\"Manual Sort Result: {manual_result}\")\n",
    "print(f\"Numpy Sort Result: {numpy_result}\")"
   ]
  },
  {
   "cell_type": "code",
   "execution_count": 21,
   "metadata": {},
   "outputs": [
    {
     "data": {
      "text/plain": [
       "[3, 1, 4, 1, 5, 9]"
      ]
     },
     "execution_count": 21,
     "metadata": {},
     "output_type": "execute_result"
    }
   ],
   "source": [
    "list1"
   ]
  },
  {
   "cell_type": "code",
   "execution_count": 22,
   "metadata": {},
   "outputs": [
    {
     "name": "stdout",
     "output_type": "stream",
     "text": [
      "Manual Concatenate Result: [3, 1, 4, 1, 5, 9, 4, 5, 6]\n",
      "Numpy Concatenate Result: [3 1 4 1 5 9 4 5 6]\n"
     ]
    }
   ],
   "source": [
    "def manual_concatenate(list1, list2):\n",
    "    result = list1\n",
    "    for val2 in list2:\n",
    "        result.append(val2)\n",
    "    return result\n",
    "\n",
    "def numpy_concatenate(array1, array2):\n",
    "    return np.concatenate([array1, array2], axis=0)\n",
    "\n",
    "manual_result = manual_concatenate(list1, list2)\n",
    "numpy_result = numpy_concatenate(array1, array2)\n",
    "\n",
    "print(f\"Manual Concatenate Result: {manual_result}\")\n",
    "print(f\"Numpy Concatenate Result: {numpy_result}\")"
   ]
  },
  {
   "cell_type": "markdown",
   "metadata": {},
   "source": [
    "## Part 2\n",
    "\n",
    "You are part of a data analytics team at a retail company, and you have been given the task of analyzing sales data to identify trends and patterns. However, before you can leverage powerful libraries like Numpy, your team wants to ensure you understand the underlying operations by implementing basic data analysis functions from scratch. You can use your custom implementations of Numpy functions to analyze a middle-sized dataset if you wish."
   ]
  },
  {
   "cell_type": "code",
   "execution_count": 23,
   "metadata": {},
   "outputs": [],
   "source": [
    "sales_data = [\n",
    "    {\"product\": \"A\", \"region\": \"North\", \"units_sold\": 150, \"unit_price\": 10.0},\n",
    "    {\"product\": \"B\", \"region\": \"South\", \"units_sold\": 200, \"unit_price\": 20.0},\n",
    "    {\"product\": \"C\", \"region\": \"East\", \"units_sold\": 300, \"unit_price\": 15.0},\n",
    "    {\"product\": \"A\", \"region\": \"West\", \"units_sold\": 130, \"unit_price\": 10.0},\n",
    "    {\"product\": \"B\", \"region\": \"North\", \"units_sold\": 120, \"unit_price\": 20.0},\n",
    "    {\"product\": \"C\", \"region\": \"South\", \"units_sold\": 250, \"unit_price\": 15.0},\n",
    "    {\"product\": \"A\", \"region\": \"East\", \"units_sold\": 170, \"unit_price\": 10.0},\n",
    "    {\"product\": \"B\", \"region\": \"West\", \"units_sold\": 180, \"unit_price\": 20.0},\n",
    "    {\"product\": \"C\", \"region\": \"North\", \"units_sold\": 310, \"unit_price\": 15.0},\n",
    "    {\"product\": \"A\", \"region\": \"South\", \"units_sold\": 160, \"unit_price\": 10.0},\n",
    "    {\"product\": \"B\", \"region\": \"East\", \"units_sold\": 190, \"unit_price\": 20.0},\n",
    "    {\"product\": \"C\", \"region\": \"West\", \"units_sold\": 280, \"unit_price\": 15.0},\n",
    "]"
   ]
  },
  {
   "cell_type": "markdown",
   "metadata": {},
   "source": [
    "### Task 1\n",
    "\n",
    "Calculate Total Revenue per Product:\n",
    "\n",
    "Implement a function to calculate the total revenue for each product."
   ]
  },
  {
   "cell_type": "code",
   "execution_count": 24,
   "metadata": {},
   "outputs": [
    {
     "name": "stdout",
     "output_type": "stream",
     "text": [
      "Total Revenue (Manual): {'C': 17100.0, 'B': 13800.0, 'A': 6100.0}\n"
     ]
    }
   ],
   "source": [
    "def manual_total_revenue(sales_data):\n",
    "    revenue_dict = {}\n",
    "    product = set([sls['product'] for sls in sales_data])\n",
    "    product_list = [val for val in product]\n",
    "    for prd in product_list:\n",
    "        revenue_list = []\n",
    "        for sales in sales_data:\n",
    "            if sales['product'] == prd:\n",
    "                revenue_list.append(sales['units_sold'] * sales['unit_price'])\n",
    "        revenue_dict[prd] = sum(revenue_list)\n",
    "\n",
    "    return revenue_dict\n",
    "\n",
    "total_revenue_manual = manual_total_revenue(sales_data)\n",
    "print(f\"Total Revenue (Manual): {total_revenue_manual}\")"
   ]
  },
  {
   "cell_type": "markdown",
   "metadata": {},
   "source": [
    "### Task 2\n",
    "\n",
    "Find the Average Units Sold per Region:\n",
    "\n",
    "Implement a function to compute the average units sold in each region."
   ]
  },
  {
   "cell_type": "code",
   "execution_count": 25,
   "metadata": {},
   "outputs": [
    {
     "name": "stdout",
     "output_type": "stream",
     "text": [
      "Average Units Sold per Region (Manual): {'West': 196.66666666666666, 'East': 220.0, 'South': 203.33333333333334, 'North': 193.33333333333334}\n"
     ]
    }
   ],
   "source": [
    "def manual_average_units_sold(sales_data):\n",
    "    region_dict = {}\n",
    "    region = set([sls['region'] for sls in sales_data])\n",
    "    region = [val for val in region]\n",
    "    for reg in region:\n",
    "        avg_unit_sold_list = []\n",
    "        for sales in sales_data:\n",
    "            if sales['region'] == reg:\n",
    "                avg_unit_sold_list.append(sales['units_sold'])\n",
    "        region_dict[reg] = manual_mean(avg_unit_sold_list)\n",
    "    return region_dict\n",
    "\n",
    "average_units_sold_manual = manual_average_units_sold(sales_data)\n",
    "print(f\"Average Units Sold per Region (Manual): {average_units_sold_manual}\")"
   ]
  },
  {
   "cell_type": "markdown",
   "metadata": {},
   "source": [
    "### Task 3\n",
    "\n",
    "Identify the Product with the Highest Sales:\n",
    "\n",
    "Implement a function to determine which product has the highest total units sold."
   ]
  },
  {
   "cell_type": "code",
   "execution_count": 26,
   "metadata": {},
   "outputs": [
    {
     "name": "stdout",
     "output_type": "stream",
     "text": [
      "Product with Highest Sales (Manual): {'C': 1140}\n"
     ]
    }
   ],
   "source": [
    "def manual_highest_sales_product(sales_data):\n",
    "    sales_dict = {}\n",
    "    product = set([sls['product'] for sls in sales_data])\n",
    "    product_list = [val for val in product]\n",
    "    for prd in product_list:\n",
    "        revenue_list = []\n",
    "        for sales in sales_data:\n",
    "            if sales['product'] == prd:\n",
    "                revenue_list.append(sales['units_sold'] )\n",
    "        sales_dict[prd] = sum(revenue_list)\n",
    "\n",
    "    highest_sales_product = {}\n",
    "    max_units_sold = max([val for _, val in sales_dict.items()])\n",
    "    \n",
    "    for key, val in sales_dict.items():\n",
    "        if val == max_units_sold:\n",
    "            highest_sales_product[key] = val\n",
    "\n",
    "    return  highest_sales_product\n",
    "\n",
    "highest_sales_product_manual = manual_highest_sales_product(sales_data)\n",
    "print(f\"Product with Highest Sales (Manual): {highest_sales_product_manual}\")"
   ]
  },
  {
   "cell_type": "markdown",
   "metadata": {},
   "source": [
    "### Task 4\n",
    "\n",
    "Calculate the Standard Deviation of Units Sold per Product:\n",
    "\n",
    "Implement a function to compute the standard deviation of units sold for each product.\n"
   ]
  },
  {
   "cell_type": "code",
   "execution_count": 27,
   "metadata": {},
   "outputs": [
    {
     "name": "stdout",
     "output_type": "stream",
     "text": [
      "Standard Deviation of Units Sold per Product (Manual): {'C': 22.9128784747792, 'B': 31.12474899497183, 'A': 14.79019945774904}\n"
     ]
    }
   ],
   "source": [
    "def manual_std_units_sold(sales_data):    \n",
    "    std_dict = {}\n",
    "    product = set([sls['product'] for sls in sales_data])\n",
    "    product_list = [val for val in product]\n",
    "    for prd in product_list:\n",
    "        std_list = []\n",
    "        for sales in sales_data:\n",
    "            if sales['product'] == prd:\n",
    "                std_list.append(sales['units_sold'] )\n",
    "        std_dict[prd] = manual_std(std_list)\n",
    "\n",
    "    return std_dict\n",
    "\n",
    "std_units_sold_manual = manual_std_units_sold(sales_data)\n",
    "print(f\"Standard Deviation of Units Sold per Product (Manual): {std_units_sold_manual}\")"
   ]
  },
  {
   "cell_type": "markdown",
   "metadata": {},
   "source": [
    "### Task 5\n",
    "\n",
    "Sort the Products by Total Revenue:\n",
    "\n",
    "Implement a function to sort the products based on their total revenue in descending order."
   ]
  },
  {
   "cell_type": "code",
   "execution_count": 46,
   "metadata": {},
   "outputs": [
    {
     "name": "stdout",
     "output_type": "stream",
     "text": [
      "{'C': 17100.0, 'B': 13800.0, 'A': 6100.0}\n",
      "Products Sorted by Total Revenue (Manual): {'A': 6100.0, 'B': 13800.0, 'C': 17100.0}\n"
     ]
    }
   ],
   "source": [
    "def manual_sort_products_by_revenue(sales_data):\n",
    "    total_revenue = manual_total_revenue(sales_data)\n",
    "    list_revenue = manual_sort([int(val) for _, val in total_revenue.items()])\n",
    "\n",
    "    sorted_products = {}\n",
    "    for srt_rev in list_revenue:\n",
    "        for key, val in total_revenue.items():\n",
    "            if srt_rev == val:\n",
    "                sorted_products[key] = val\n",
    "    return sorted_products\n",
    "\n",
    "sorted_products_manual = manual_sort_products_by_revenue(sales_data)\n",
    "print(f\"Products Sorted by Total Revenue (Manual): {sorted_products_manual}\")"
   ]
  },
  {
   "cell_type": "code",
   "execution_count": null,
   "metadata": {},
   "outputs": [],
   "source": []
  }
 ],
 "metadata": {
  "kernelspec": {
   "display_name": "myenv",
   "language": "python",
   "name": "python3"
  },
  "language_info": {
   "codemirror_mode": {
    "name": "ipython",
    "version": 3
   },
   "file_extension": ".py",
   "mimetype": "text/x-python",
   "name": "python",
   "nbconvert_exporter": "python",
   "pygments_lexer": "ipython3",
   "version": "3.10.6"
  }
 },
 "nbformat": 4,
 "nbformat_minor": 2
}
